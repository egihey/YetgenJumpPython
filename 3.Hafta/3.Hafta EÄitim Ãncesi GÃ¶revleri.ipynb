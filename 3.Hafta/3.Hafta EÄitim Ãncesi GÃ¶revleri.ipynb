{
  "cells": [
    {
      "cell_type": "markdown",
      "metadata": {
        "id": "tsD4YVAe_Te2"
      },
      "source": [
        "# Problem 1\n",
        "Bir sayının 7'ye bölünebilir olup olmadığını kontrol etmek \n",
        "için bir program yazın.\n",
        "\n",
        "İpucu: Mod operatörünü (%) kullanabilirsiniz."
      ]
    },
    {
      "cell_type": "code",
      "execution_count": 1,
      "metadata": {
        "id": "NGjvNwKx_Te7"
      },
      "outputs": [
        {
          "name": "stdout",
          "output_type": "stream",
          "text": [
            "Sayı 7'ye bölünür.\n"
          ]
        }
      ],
      "source": [
        "x=int(input(\"Bir sayı giriniz:\"))\n",
        "if x % 7 ==0:\n",
        "    print(\"Sayı 7'ye bölünür.\")\n",
        "else:\n",
        "    print(\"Sayı 7'ye bölünmez.\")"
      ]
    },
    {
      "cell_type": "markdown",
      "metadata": {
        "id": "Kg3qiBAI_Te8"
      },
      "source": [
        "# Problem 2\n",
        "Kullanıcıdan vize ve final notu isteyin. Girilen vize notunun %40’ı ve \n",
        "girilen finalnotunun ise %60’ı alınarak yıl sonu not ortalaması hesaplanacaktır. \n",
        "\n",
        "Bu not ortalaması eğer 85 ve üzeri ise AA, \n",
        "\n",
        "75 ve 85 arasında ise BA, \n",
        "\n",
        "70 ve 75 arasında ise BB, \n",
        "\n",
        "65 ve 70 arasında ise CB,\n",
        "\n",
        "60 ve 65 arasında ise CC,\n",
        "\n",
        "55 ve 60 arasında ise DC,\n",
        "\n",
        "50 ve 55 arasında ise DD olarak hesaplanacaktır. \n",
        "\n",
        "Bu öğrencinin yıl sonu toplam notu 50’nin altında ise FF ile dersten kalacaktır. \n",
        "\n",
        "Ayrıca öğrencinin final notu 50’nin altında ise direkt FF ile kalacaktır."
      ]
    },
    {
      "cell_type": "code",
      "execution_count": 1,
      "metadata": {
        "id": "MXTtCxI1_Te8"
      },
      "outputs": [
        {
          "name": "stdout",
          "output_type": "stream",
          "text": [
            "FF,Sınıfta kaldın haberin yok :))\n"
          ]
        }
      ],
      "source": [
        "vize=float(input(\"Vize notunuzu giriniz:\"))\n",
        "final=float(input(\"Final notunu giriniz:\"))\n",
        "yılSonuNot=(vize*0.4)+(final*0.6)\n",
        "if 75<yılSonuNot<85:\n",
        "    print(\"BA\")\n",
        "elif 70<yılSonuNot<75:\n",
        "    print(\"BB\")\n",
        "elif 65<yılSonuNot<70:\n",
        "    print(\"CB\")\n",
        "elif 60<yılSonuNot<65:\n",
        "    print(\"CC\")\n",
        "elif 55<yılSonuNot<60:\n",
        "    print(\"DC\")\n",
        "elif 50<yılSonuNot<55:\n",
        "    print(\"DD\")\n",
        "elif (yılSonuNot<50 or final<50):\n",
        "    print(\"FF,Sınıfta kaldın haberin yok :))\")"
      ]
    },
    {
      "cell_type": "markdown",
      "metadata": {
        "id": "tAoRYCTC_Te8"
      },
      "source": [
        "# Problem 3\n",
        "İki YetGenli Zirve'de karşılaşıyorlar. Birbirlerini tanımak için sorular soruyorlar. Birbirlerine yaşlarını soruyorlar. Akıllarına bir Python programı yazıp, yaşlarını ve isimlerini giriyorlar. Büyük olanın yaşını ekrana yazdıran programı yazıyorlar. Sende bu iki YetGenli'ye destek olmak ister misin?\n",
        "\n",
        "```\n",
        "Birinci YetGenlinin ismi: Ahmet\n",
        "Birinci YetGenlinin yaşı : 20\n",
        "İkinci YetGenlinin ismi: Mehmet\n",
        "İkinci YetGenlinin yaşı : 25\n",
        "Mehmet'in yaşı daha büyük ve yaşı 25'tir.\n",
        "```"
      ]
    },
    {
      "cell_type": "code",
      "execution_count": 19,
      "metadata": {
        "id": "bPjE8W0i_Te8"
      },
      "outputs": [
        {
          "name": "stdout",
          "output_type": "stream",
          "text": [
            "Ela,Ezgi'den büyüktür ve yaşı 30'dur.\n"
          ]
        }
      ],
      "source": [
        "isim1=input(\"Lütfen isminizi giriniz:\")\n",
        "yas1=int(input(\"Yasınızı giriniz:\"))\n",
        "isim2=input(\"Lütfen isminizi giriniz:\")\n",
        "yas2=int(input(\"Yasınızı giriniz:\"))\n",
        "if yas1<yas2:\n",
        "    print(f\"{isim2},{isim1}'den büyüktür ve yaşı {yas2}'dur.\")\n",
        "else:\n",
        "    print(f\"{isim1}, {isim2}'den büyüktür ve yaşı {yas1}'dur.\")"
      ]
    },
    {
      "cell_type": "markdown",
      "metadata": {
        "id": "zBVv8Tyg_Te9"
      },
      "source": [
        "# Problem 4\n",
        "Pandemi döneminde AVM'lerde ateş ölçümü yapılıyor. AVM'ye giren kişinin ateş ölçümü 37.5 derecenin altında ise girişe izin veriliyor. 37.5 derecenin üstünde ise girişe izin verilmiyor. AVM'ye girişe izin verilip verilmediğini ekrana yazdıran bir program yazın.\n",
        "\n",
        "Program sonunda şöyle bir çıktı elde etmelisiniz:\n",
        "\n",
        "```\n",
        "Ateşiniz 37.5 derece. AVM'ye girebilirsin! Maske takmayı unutma!\n",
        "Ateşiniz 37.6 derece. AVM'ye giremezsin! Hemen evine dön!\n",
        "```"
      ]
    },
    {
      "cell_type": "code",
      "execution_count": 8,
      "metadata": {
        "id": "TSAXs8et_Te9"
      },
      "outputs": [
        {
          "name": "stdout",
          "output_type": "stream",
          "text": [
            "Ateşiniz 36.5 derece. AVM'ye girebilirsiniz! Maske takmayı unutmayın!\n"
          ]
        }
      ],
      "source": [
        "ates=float(input(\"Ateşinizin derecesini yazınız:\"))    # başa float koymamızın sebebi; altta ates<37.5 derken ates str diğeri sayı olursa olmaz.\n",
        "if ates<37.5:\n",
        "    print(f\"Ateşiniz {ates} derece. AVM'ye girebilirsiniz! Maske takmayı unutmayın!\")\n",
        "else:\n",
        "    print(f\"Ateşiniz {ates} derece. AVM'ye giremezsiniz! Hemen evinize dönün!\")"
      ]
    },
    {
      "cell_type": "markdown",
      "metadata": {
        "id": "6AEkZrDt_Te9"
      },
      "source": [
        "# Problem 5\n",
        "YetGen bir spor kulübüyle sponsorluk anlaşması yapıyor. Kulüp, sponsorluk anlaşmasına göre her YetGen liderinin beden kitle indeksini hesaplamak istiyor. Spor kulübü, beden kitle indeksini hesaplamak için YetGen Jump Python liderlerinden Berkcan ve Ahmet'i arıyor. Berkcan ve Ahmet, kulübe yardımcı olmak için bir Python programı yazıyorlar. Sende bu iki YetGen liderine destek olmak ister misin?\n",
        "\n",
        "Kullanıcıdan alınan boy ve kilo değerlerine göre beden kitle indeksini hesaplayın ve şu kurallara göre ekrana şu yazıları yazdırın.\n",
        "\n",
        "\n",
        "Beden Kitle İndeksi, kişinin ağırlığının (kg olarak) boyunun karesine (m olarak) bölünmesiyle hesaplanır.\n",
        "\n",
        "\n",
        "```\n",
        " BKİ 18.5'un altındaysa -------> Zayıf\n",
        "\n",
        " BKİ 18.5 ile 25 arasındaysa ------> Normal\n",
        "\n",
        " BKİ 25 ile 30 arasındaysa --------> Fazla Kilolu\n",
        "\n",
        " BKİ 30'un üstündeyse -------------> Obez\n",
        "```\n",
        "\n"
      ]
    },
    {
      "cell_type": "code",
      "execution_count": 10,
      "metadata": {
        "id": "t-XPI_u0_Te-"
      },
      "outputs": [
        {
          "name": "stdout",
          "output_type": "stream",
          "text": [
            "Normal\n"
          ]
        }
      ],
      "source": [
        "boy=float(input(\"Boyunuz kaç m:\"))\n",
        "kilo=float(input(\"Kilonuz kaç kg:\"))\n",
        "bki=kilo/(boy**2)\n",
        "if bki<18.5:\n",
        "    print(\"Zayıf\")\n",
        "elif 18.5<bki<25:\n",
        "    print(\"Normal\")\n",
        "elif 25<bki<30:\n",
        "    print(\"Fazla kilolu\")\n",
        "else:\n",
        "    print(\"Obez\")"
      ]
    },
    {
      "cell_type": "markdown",
      "metadata": {
        "id": "oFsvQyaO_Te-"
      },
      "source": [
        "# Problem 6\n",
        "Kullanıcıdan isim, yaş ve eğitim bilgilerini isteyip ehliyet alabilme  durumunu kontrol ediniz. \n",
        "\n",
        "Ehliyet alma koşulu en az 18 yaşında ve eğitim durumu lise ya da üniversite olmalıdır. "
      ]
    },
    {
      "cell_type": "code",
      "execution_count": 14,
      "metadata": {
        "id": "Tu2mcgco_Te-"
      },
      "outputs": [
        {
          "name": "stdout",
          "output_type": "stream",
          "text": [
            "Ezgi, ehliyet alma koşulunu sağlar.\n"
          ]
        }
      ],
      "source": [
        "isim=input(\"İsminizi yazınız:\")\n",
        "yas=int(input(\"Yasınızı giriniz:\")) #yaş float olmaz, çünkü 23.5 yaş olmaz.\n",
        "egitim=input(\"Eğitim düzeyiniz nedir:\")\n",
        "if 18<yas and egitim==\"Lise\" or \"Üniversite\":\n",
        "    print(f\"{isim}, ehliyet alma koşulunu sağlar.\")\n",
        "else:\n",
        "    print(f\"{isim}, ehliyet alma koşulunu sağlamaz.\")"
      ]
    },
    {
      "cell_type": "markdown",
      "metadata": {
        "id": "eUkxVSAE_Te_"
      },
      "source": [
        "# Problem 7\n",
        "Bir yılın artık yıl olup olmadığını kontrol etmek için bir program yazın. \n",
        "Artık yıl kuralı:\n",
        "\n",
        "a) Eğer yılın son iki basamağı (00) ile bitmiyor ve yalnızca 4'e tam bölünüyorsa artık yıldır. Ya da, \n",
        "\n",
        "b) Eğer yıl 400'e tam bölünüyorsa artık yıldır.\n",
        "\n",
        "**Örneğin**\n",
        "```\n",
        "2017 artık yıl değildir.\n",
        "1900 artık yıl değildir\n",
        "2012 artık yıldır.\n",
        "2000 artık yıldır.\n",
        "```"
      ]
    },
    {
      "cell_type": "code",
      "execution_count": 17,
      "metadata": {
        "id": "4uWh8qUL_Te_"
      },
      "outputs": [
        {
          "name": "stdout",
          "output_type": "stream",
          "text": [
            "2000, artık yıldır.\n"
          ]
        }
      ],
      "source": [
        "yıl=int(input(\"Bir yıl giriniz:\"))  \n",
        "if (yıl%100!=0 and yıl%4==0) or yıl%400==0:\n",
        "    print(f\"{yıl}, artık yıldır.\")\n",
        "else:\n",
        "    print(f\"{yıl}, artık yıl değildir.\")"
      ]
    }
  ],
  "metadata": {
    "colab": {
      "provenance": []
    },
    "kernelspec": {
      "display_name": "Python 3",
      "language": "python",
      "name": "python3"
    },
    "language_info": {
      "codemirror_mode": {
        "name": "ipython",
        "version": 3
      },
      "file_extension": ".py",
      "mimetype": "text/x-python",
      "name": "python",
      "nbconvert_exporter": "python",
      "pygments_lexer": "ipython3",
      "version": "3.11.1"
    },
    "orig_nbformat": 4,
    "vscode": {
      "interpreter": {
        "hash": "aee8b7b246df8f9039afb4144a1f6fd8d2ca17a180786b69acc140d282b71a49"
      }
    }
  },
  "nbformat": 4,
  "nbformat_minor": 0
}
