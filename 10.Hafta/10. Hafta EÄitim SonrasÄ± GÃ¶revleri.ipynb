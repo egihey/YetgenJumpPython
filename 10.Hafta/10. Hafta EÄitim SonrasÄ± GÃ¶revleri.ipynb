{
 "cells": [
  {
   "attachments": {},
   "cell_type": "markdown",
   "metadata": {},
   "source": [
    "# Problem 1 "
   ]
  },
  {
   "cell_type": "code",
   "execution_count": null,
   "metadata": {},
   "outputs": [],
   "source": [
    "# 1 - numpy kütüphanesini import edin\n",
    "\n",
    "# 2 - 5 elemanlı bir numpy array oluşturun\n",
    "\n",
    "# 3 - Oluşturduğunuz arrayi küçükten büyüğe sıralayın.\n"
   ]
  },
  {
   "cell_type": "code",
   "execution_count": 2,
   "metadata": {},
   "outputs": [
    {
     "data": {
      "text/plain": [
       "array([1, 2, 3, 4, 5])"
      ]
     },
     "execution_count": 2,
     "metadata": {},
     "output_type": "execute_result"
    }
   ],
   "source": [
    "import numpy as np\n",
    "a=np.array([5,4,3,2,1])\n",
    "a.sort()\n",
    "a"
   ]
  },
  {
   "attachments": {},
   "cell_type": "markdown",
   "metadata": {},
   "source": [
    "# Problem 2"
   ]
  },
  {
   "cell_type": "code",
   "execution_count": 37,
   "metadata": {},
   "outputs": [
    {
     "name": "stdout",
     "output_type": "stream",
     "text": [
      "[10 15 30 45 60]\n",
      "[ 5  6  7  8  9 10 11 12 13 14]\n",
      "[50 55 60 65 70 75 80 85 90 95]\n",
      "[0. 0. 0. 0. 0. 0. 0. 0. 0. 0.]\n",
      "[1. 1. 1. 1. 1. 1. 1. 1. 1. 1.]\n",
      "[  0.  25.  50.  75. 100.]\n",
      "[12 19 28 15 19]\n",
      "[ 0  0  0 -1  0  0  0  0 -1 -1]\n",
      "[[43 21 14 33 44]\n",
      " [14 19 29 41 39]\n",
      " [10 29 15 30 24]]\n",
      "[ 67  69  58 104 107]\n",
      "[155 142 108]\n",
      "44\n",
      "10\n",
      "27.0\n",
      "4\n",
      "[10 11 12]\n",
      "[[10 29 15 30 24]\n",
      " [14 19 29 41 39]\n",
      " [43 21 14 33 44]]\n",
      "[43 21 14 33 44]\n",
      "[[29]]\n",
      "[43 14 10]\n",
      "[[1849  441  196 1089 1936]\n",
      " [ 196  361  841 1681 1521]\n",
      " [ 100  841  225  900  576]]\n",
      "[ 1  2  3  4  5  6  7  8  9 10 11 12 13 14 15 16 17 18 19 20 21 22 23 24\n",
      " 25 26 27 28 29 30 31 32 33 34 35 36 37 38 39 40 41 42 43 44 45 46 47 48\n",
      " 49]\n"
     ]
    }
   ],
   "source": [
    "# 1- (10,15,30,45,60) değerlerine sahip numpy dizisi oluşturunuz.\n",
    "n=np.array([10,15,30,45,60])\n",
    "print(n)\n",
    "# 2- (5-15) arasındaki sayılarla numpy dizisi oluşturunuz.\n",
    "k=np.arange(5,15) \n",
    "print(k)\n",
    "# 3- (50-100) arasında 5'er 5'er artarak numpy dizisi oluşturunuz.\n",
    "p=np.arange(50,100,5) \n",
    "print(p)\n",
    "# 4- 10 elemanlı sıfırlardan oluşan bir dizi oluşturunuz.\n",
    "o=np.zeros(10)\n",
    "print(o)\n",
    "# 5- 10 elemanlı birlerden oluşan bir dizi oluşturunuz.\n",
    "l=np.ones(10)\n",
    "print(l)\n",
    "# 6- (0-100) arasında eşit aralıklı 5 sayı üretin.\n",
    "b=np.linspace(0,100,5)\n",
    "print(b)\n",
    "# 7- (10-30) arasında rastgele 5 tane tamsayı üretin.\n",
    "r=np.random.randint(10,30,5)\n",
    "print(r)\n",
    "# 8- [-1 ile 1] arasında 10 adet sayı üretin.\n",
    "s=np.random.randint(-1,1,10)\n",
    "print(s)\n",
    "# 9- (3x5) boyutlarında (10-50) arasında rastgele bir matris oluşturunuz.\n",
    "d=np.random.randint(10,50,(3,5))\n",
    "print(d)\n",
    "# 10- Üretilen matrisin satır ve sütun sayıları toplamlarını hesaplayınız ?\n",
    "t1=np.sum(d,axis=0)\n",
    "print(t1)\n",
    "t2=np.sum(d,axis=1)\n",
    "print(t2)\n",
    "# 11- Üretilen matrisin en büyük, en küçük ve ortalaması nedir ?\n",
    "maxi=d.max()\n",
    "print(maxi)\n",
    "mini=d.min()\n",
    "print(mini)\n",
    "ort=d.mean()\n",
    "print(ort)\n",
    "# 12- Üretilen matrisin en büyük değerinin indeksi kaçtır ?\n",
    "m=d.argmax()\n",
    "print(m)\n",
    "# 13- (10-20) arasındaki sayıları içeren dizinin ilk 3 elemanını seçiniz.\n",
    "y=np.arange(10,20)\n",
    "print(y[:3])\n",
    "# 14- Üretilen dizinin elemanlarını tersten yazdırın.\n",
    "print(d[::-1])\n",
    "\n",
    "# 15- Üretilen matrisin ilk satırını seçiniz.\n",
    "print(d[0,:])\n",
    "\n",
    "# 16- Üretilen matrisin 2.satır 3.sütundaki elemanı hangisidir ?\n",
    "print(d[1:2,2:3])\n",
    "\n",
    "# 17- Üretilen matrisin tüm satırlardaki ilk elemanı seçiniz.\n",
    "print(d[:,0])\n",
    "\n",
    "# 18- Üretilen matrisin her bir elemanının karesini alınız.\n",
    "print(np.power(d,2))\n",
    "\n",
    "# 19- Üretilen matris elemanlarının hangisi pozitif çift sayıdır ? Aralığı (-50,+50) arasında yapınız.\n",
    "a=np.arange(-50,50)\n",
    "print(a[a>0])"
   ]
  }
 ],
 "metadata": {
  "kernelspec": {
   "display_name": "Python 3",
   "language": "python",
   "name": "python3"
  },
  "language_info": {
   "codemirror_mode": {
    "name": "ipython",
    "version": 3
   },
   "file_extension": ".py",
   "mimetype": "text/x-python",
   "name": "python",
   "nbconvert_exporter": "python",
   "pygments_lexer": "ipython3",
   "version": "3.11.1"
  },
  "orig_nbformat": 4,
  "vscode": {
   "interpreter": {
    "hash": "5026d2d6e7aaaaba093def813beadff083d8733e4a511af01735cbabd156995d"
   }
  }
 },
 "nbformat": 4,
 "nbformat_minor": 2
}
